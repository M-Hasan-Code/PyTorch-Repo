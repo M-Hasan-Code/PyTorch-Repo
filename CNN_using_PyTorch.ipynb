{
  "nbformat": 4,
  "nbformat_minor": 0,
  "metadata": {
    "colab": {
      "provenance": [],
      "gpuType": "T4"
    },
    "kernelspec": {
      "name": "python3",
      "display_name": "Python 3"
    },
    "language_info": {
      "name": "python"
    },
    "accelerator": "GPU"
  },
  "cells": [
    {
      "cell_type": "code",
      "source": [
        "import torch\n",
        "from torch.utils.data import Dataset, DataLoader\n",
        "from torchvision import transforms, datasets\n",
        "import torch.nn as nn\n",
        "import torch.optim as optim\n",
        "import pandas as pd\n",
        "import matplotlib.pyplot as plt"
      ],
      "metadata": {
        "id": "l0jXX3whlLag"
      },
      "execution_count": 1,
      "outputs": []
    },
    {
      "cell_type": "code",
      "source": [
        "torch.manual_seed(42)"
      ],
      "metadata": {
        "colab": {
          "base_uri": "https://localhost:8080/"
        },
        "id": "l0TY7PCklksI",
        "outputId": "adfcffc7-a0bb-4623-8cd0-83b95b2e5ee8"
      },
      "execution_count": 2,
      "outputs": [
        {
          "output_type": "execute_result",
          "data": {
            "text/plain": [
              "<torch._C.Generator at 0x786cc3308330>"
            ]
          },
          "metadata": {},
          "execution_count": 2
        }
      ]
    },
    {
      "cell_type": "code",
      "source": [
        "device = torch.device('cuda' if torch.cuda.is_available() else 'cpu')\n",
        "print(f\"Using device: {device}\")"
      ],
      "metadata": {
        "colab": {
          "base_uri": "https://localhost:8080/"
        },
        "id": "6RDDaBBtlo7Y",
        "outputId": "c6f944b7-e87b-47de-9ac6-fb19e93a9dfc"
      },
      "execution_count": 3,
      "outputs": [
        {
          "output_type": "stream",
          "name": "stdout",
          "text": [
            "Using device: cuda\n"
          ]
        }
      ]
    },
    {
      "cell_type": "code",
      "source": [
        "transforms = transforms.ToTensor()"
      ],
      "metadata": {
        "id": "fGrM2e2SmAcR"
      },
      "execution_count": 4,
      "outputs": []
    },
    {
      "cell_type": "code",
      "source": [
        "train_data = datasets.CIFAR10(root='data', train=True, download=True, transform= transforms)\n",
        "test_data = datasets.CIFAR10(root='data', train=False, download=True, transform= transforms)\n",
        "\n",
        "# Step 4: Class labels\n",
        "classes = ('plane', 'car', 'bird', 'cat', 'deer',\n",
        "           'dog', 'frog', 'horse', 'ship', 'truck')"
      ],
      "metadata": {
        "colab": {
          "base_uri": "https://localhost:8080/"
        },
        "id": "kCdZg6_ul33o",
        "outputId": "24dbb48e-ae14-4df1-8644-fc5c0245a1ec"
      },
      "execution_count": 5,
      "outputs": [
        {
          "output_type": "stream",
          "name": "stderr",
          "text": [
            "100%|██████████| 170M/170M [00:14<00:00, 11.7MB/s]\n"
          ]
        }
      ]
    },
    {
      "cell_type": "code",
      "source": [
        "import matplotlib.pyplot as plt\n",
        "\n",
        "# Get first sample\n",
        "X1, y1 = train_data[0]\n",
        "\n",
        "print(\"Label index:\", y1)\n",
        "print(\"Label name:\", classes[y1])\n",
        "print(\"Image shape:\", X1.shape)   # (3, 32, 32)\n",
        "\n",
        "# Convert (C, H, W) → (H, W, C) for matplotlib\n",
        "img = X1.permute(1, 2, 0)\n",
        "\n",
        "# Display image\n",
        "plt.figure(figsize=(2, 2))\n",
        "plt.imshow(img)\n",
        "plt.title(f\"Label: {classes[y1]}\")\n",
        "plt.axis(\"off\")\n",
        "plt.show()"
      ],
      "metadata": {
        "colab": {
          "base_uri": "https://localhost:8080/",
          "height": 265
        },
        "id": "Po7ed0eln2nM",
        "outputId": "1c35ddc6-49ce-496c-85bb-4ff5f0fe398e"
      },
      "execution_count": 6,
      "outputs": [
        {
          "output_type": "stream",
          "name": "stdout",
          "text": [
            "Label index: 6\n",
            "Label name: frog\n",
            "Image shape: torch.Size([3, 32, 32])\n"
          ]
        },
        {
          "output_type": "display_data",
          "data": {
            "text/plain": [
              "<Figure size 200x200 with 1 Axes>"
            ],
            "image/png": "[encoded data removed]"
          },
          "metadata": {}
        }
      ]
    },
    {
      "cell_type": "code",
      "source": [
        "from torch.utils.data import Dataset, DataLoader\n",
        "\n",
        "train_loader = DataLoader(train_data, batch_size=20, shuffle=True, pin_memory=True)\n",
        "test_loader = DataLoader(test_data, batch_size=20, shuffle=False, pin_memory=True)"
      ],
      "metadata": {
        "id": "jM9RhcJ7oEjX"
      },
      "execution_count": 7,
      "outputs": []
    },
    {
      "cell_type": "code",
      "source": [
        "import torch\n",
        "import torch.nn as nn\n",
        "\n",
        "class CNN(nn.Module):\n",
        "    def __init__(self, num_classes=10):\n",
        "        super(CNN, self).__init__()\n",
        "\n",
        "        # Features extractor\n",
        "        self.features = nn.Sequential(\n",
        "            # Block 1\n",
        "            nn.Conv2d(3, 64, kernel_size=3, padding=1),   # (3,32,32) -> (64,32,32)\n",
        "            nn.BatchNorm2d(64),\n",
        "            nn.ReLU(),\n",
        "            nn.Conv2d(64, 64, kernel_size=3, padding=1),  # (64,32,32) -> (64,32,32)\n",
        "            nn.BatchNorm2d(64),\n",
        "            nn.ReLU(),\n",
        "            nn.MaxPool2d(2,2),                            # (64,32,32) -> (64,16,16)\n",
        "            nn.Dropout(p=0.4),\n",
        "\n",
        "            # Block 2\n",
        "            nn.Conv2d(64, 128, kernel_size=3, padding=1), # (64,16,16) -> (128,16,16)\n",
        "            nn.BatchNorm2d(128),\n",
        "            nn.ReLU(),\n",
        "            nn.Conv2d(128, 128, kernel_size=3, padding=1),# (128,16,16) -> (128,16,16)\n",
        "            nn.BatchNorm2d(128),\n",
        "            nn.ReLU(),\n",
        "            nn.MaxPool2d(2,2),                            # (128,16,16) -> (128,8,8)\n",
        "            nn.Dropout(p=0.4),\n",
        "\n",
        "            # Block 3\n",
        "            nn.Conv2d(128, 256, kernel_size=3, padding=1),# (128,8,8) -> (256,8,8)\n",
        "            nn.BatchNorm2d(256),\n",
        "            nn.ReLU(),\n",
        "            nn.Conv2d(256, 256, kernel_size=3, padding=1),# (256,8,8) -> (256,8,8)\n",
        "            nn.BatchNorm2d(256),\n",
        "            nn.ReLU(),\n",
        "            nn.MaxPool2d(2,2),                            # (256,8,8) -> (256,4,4)\n",
        "            nn.Dropout(p=0.4),\n",
        "            #nn.AdaptiveAvgPool2d((1,1))                   # (256,8,8) -> (256,1,1)\n",
        "        )\n",
        "\n",
        "        # Classifier\n",
        "        self.classifier = nn.Sequential(\n",
        "            nn.Flatten(),                                 # (256,1,1) -> (256,)\n",
        "            nn.Linear(4096, 4096),\n",
        "            nn.BatchNorm1d(4096),\n",
        "            nn.ReLU(),\n",
        "            nn.Dropout(p=0.4),\n",
        "            nn.Linear(4096, 128),\n",
        "            nn.BatchNorm1d(128),\n",
        "            nn.ReLU(),\n",
        "            nn.Dropout(p=0.4),\n",
        "            nn.Linear(128, num_classes)\n",
        "        )\n",
        "\n",
        "    def forward(self, x):\n",
        "        x = self.features(x)\n",
        "        x = self.classifier(x)\n",
        "        return x"
      ],
      "metadata": {
        "id": "-nBrzGmQpk5u"
      },
      "execution_count": 8,
      "outputs": []
    },
    {
      "cell_type": "code",
      "source": [
        "learning_rate = 0.01\n",
        "epochs = 30"
      ],
      "metadata": {
        "id": "GqYa4QLep010"
      },
      "execution_count": 14,
      "outputs": []
    },
    {
      "cell_type": "code",
      "source": [
        "import torch.optim as optim\n",
        "\n",
        "model = CNN()\n",
        "\n",
        "model.to(device)\n",
        "\n",
        "criterion = nn.CrossEntropyLoss()\n",
        "optimizer = optim.SGD(model.parameters(), lr=learning_rate, weight_decay=1e-4)"
      ],
      "metadata": {
        "id": "eZQ6q4nLp292"
      },
      "execution_count": 15,
      "outputs": []
    },
    {
      "cell_type": "code",
      "source": [
        "# training loop\n",
        "\n",
        "for epoch in range(epochs):\n",
        "\n",
        "  total_epoch_loss = 0\n",
        "\n",
        "  for batch_features, batch_labels in train_loader:\n",
        "\n",
        "    # move data to gpu\n",
        "    batch_features, batch_labels = batch_features.to(device), batch_labels.to(device)\n",
        "\n",
        "    # forward pass\n",
        "    outputs = model(batch_features)\n",
        "\n",
        "    # calculate loss\n",
        "    loss = criterion(outputs, batch_labels)\n",
        "\n",
        "    # back pass\n",
        "    optimizer.zero_grad()\n",
        "    loss.backward()\n",
        "\n",
        "    # update grads\n",
        "    optimizer.step()\n",
        "\n",
        "    total_epoch_loss = total_epoch_loss + loss.item()\n",
        "\n",
        "  avg_loss = total_epoch_loss/len(train_loader)\n",
        "  print(f'Epoch: {epoch + 1} , Loss: {avg_loss}')"
      ],
      "metadata": {
        "colab": {
          "base_uri": "https://localhost:8080/"
        },
        "id": "dRsRM7Ahp50s",
        "outputId": "46409363-291f-4d9f-ee22-a504b2a6aea0"
      },
      "execution_count": 16,
      "outputs": [
        {
          "output_type": "stream",
          "name": "stdout",
          "text": [
            "Epoch: 1 , Loss: 1.5630224161863326\n",
            "Epoch: 2 , Loss: 1.1970620891928674\n",
            "Epoch: 3 , Loss: 1.0234321266293527\n",
            "Epoch: 4 , Loss: 0.9183513188004494\n",
            "Epoch: 5 , Loss: 0.8472734438896179\n",
            "Epoch: 6 , Loss: 0.7876310284018516\n",
            "Epoch: 7 , Loss: 0.7529552233099938\n",
            "Epoch: 8 , Loss: 0.7065902921915055\n",
            "Epoch: 9 , Loss: 0.672207541257143\n",
            "Epoch: 10 , Loss: 0.6493837066590786\n",
            "Epoch: 11 , Loss: 0.6181631691634655\n",
            "Epoch: 12 , Loss: 0.5923437469393015\n",
            "Epoch: 13 , Loss: 0.5743313847720622\n",
            "Epoch: 14 , Loss: 0.5505034911334514\n",
            "Epoch: 15 , Loss: 0.5366192047715187\n",
            "Epoch: 16 , Loss: 0.5187383843243122\n",
            "Epoch: 17 , Loss: 0.5041600698858499\n",
            "Epoch: 18 , Loss: 0.4875552383437753\n",
            "Epoch: 19 , Loss: 0.472312688344717\n",
            "Epoch: 20 , Loss: 0.461401059871912\n",
            "Epoch: 21 , Loss: 0.44710847911536694\n",
            "Epoch: 22 , Loss: 0.43813102925419806\n",
            "Epoch: 23 , Loss: 0.4164539735302329\n",
            "Epoch: 24 , Loss: 0.41328920853585005\n",
            "Epoch: 25 , Loss: 0.4017792854145169\n",
            "Epoch: 26 , Loss: 0.39238107276186346\n",
            "Epoch: 27 , Loss: 0.3845871129140258\n",
            "Epoch: 28 , Loss: 0.3745835808604956\n",
            "Epoch: 29 , Loss: 0.3574523608699441\n",
            "Epoch: 30 , Loss: 0.35330634177476167\n"
          ]
        }
      ]
    },
    {
      "cell_type": "code",
      "source": [
        "model.eval()\n",
        "\n",
        "# evaluation on test data\n",
        "total = 0\n",
        "correct = 0\n",
        "\n",
        "with torch.no_grad():\n",
        "\n",
        "  for batch_features, batch_labels in test_loader:\n",
        "\n",
        "    # move data to gpu\n",
        "    batch_features, batch_labels = batch_features.to(device), batch_labels.to(device)\n",
        "\n",
        "    outputs = model(batch_features)\n",
        "\n",
        "    _, predicted = torch.max(outputs, 1)\n",
        "\n",
        "    total = total + batch_labels.shape[0]\n",
        "\n",
        "    correct = correct + (predicted == batch_labels).sum().item()\n",
        "\n",
        "print(correct/total)"
      ],
      "metadata": {
        "colab": {
          "base_uri": "https://localhost:8080/"
        },
        "id": "7DOcaf6Sqw7P",
        "outputId": "9f942b64-df7c-4ec8-b680-14ba55d72eac"
      },
      "execution_count": 17,
      "outputs": [
        {
          "output_type": "stream",
          "name": "stdout",
          "text": [
            "0.8778\n"
          ]
        }
      ]
    },
    {
      "cell_type": "code",
      "source": [
        "# evaluation on training data\n",
        "total = 0\n",
        "correct = 0\n",
        "\n",
        "with torch.no_grad():\n",
        "\n",
        "  for batch_features, batch_labels in train_loader:\n",
        "\n",
        "    # move data to gpu\n",
        "    batch_features, batch_labels = batch_features.to(device), batch_labels.to(device)\n",
        "\n",
        "    outputs = model(batch_features)\n",
        "\n",
        "    _, predicted = torch.max(outputs, 1)\n",
        "\n",
        "    total = total + batch_labels.shape[0]\n",
        "\n",
        "    correct = correct + (predicted == batch_labels).sum().item()\n",
        "\n",
        "print(correct/total)"
      ],
      "metadata": {
        "colab": {
          "base_uri": "https://localhost:8080/"
        },
        "id": "joOKo06jvq0m",
        "outputId": "6fc89762-9fe9-4eae-82cf-eaa64b1aef07"
      },
      "execution_count": 18,
      "outputs": [
        {
          "output_type": "stream",
          "name": "stdout",
          "text": [
            "0.95882\n"
          ]
        }
      ]
    }
  ]
}