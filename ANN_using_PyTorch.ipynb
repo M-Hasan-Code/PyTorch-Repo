{
  "nbformat": 4,
  "nbformat_minor": 0,
  "metadata": {
    "colab": {
      "provenance": [],
      "gpuType": "T4"
    },
    "kernelspec": {
      "name": "python3",
      "display_name": "Python 3"
    },
    "language_info": {
      "name": "python"
    },
    "accelerator": "GPU"
  },
  "cells": [
    {
      "cell_type": "code",
      "source": [
        "import pandas as pd\n",
        "from sklearn.model_selection import train_test_split\n",
        "import torch\n",
        "from torch.utils.data import Dataset, DataLoader\n",
        "import torch.nn as nn\n",
        "import torch.optim as optim\n",
        "from torchvision import datasets, transforms"
      ],
      "metadata": {
        "id": "_mNLHDYUd1Nr"
      },
      "execution_count": 1,
      "outputs": []
    },
    {
      "cell_type": "code",
      "source": [
        "train_data = datasets.FashionMNIST(root='data', train=True, download=True, transform=transforms.ToTensor())"
      ],
      "metadata": {
        "colab": {
          "base_uri": "https://localhost:8080/"
        },
        "id": "13EjF6Wyd6ID",
        "outputId": "d0baa916-e2ff-4548-8ff6-8abe4a9c62c1"
      },
      "execution_count": 2,
      "outputs": [
        {
          "output_type": "stream",
          "name": "stderr",
          "text": [
            "100%|██████████| 26.4M/26.4M [00:02<00:00, 11.0MB/s]\n",
            "100%|██████████| 29.5k/29.5k [00:00<00:00, 175kB/s]\n",
            "100%|██████████| 4.42M/4.42M [00:01<00:00, 2.91MB/s]\n",
            "100%|██████████| 5.15k/5.15k [00:00<00:00, 16.9MB/s]\n"
          ]
        }
      ]
    },
    {
      "cell_type": "code",
      "source": [
        "# Set random seeds for reproducibility\n",
        "torch.manual_seed(42)"
      ],
      "metadata": {
        "colab": {
          "base_uri": "https://localhost:8080/"
        },
        "id": "I-VKxkYdwu2Z",
        "outputId": "9387cc8e-3abb-42ad-f1f6-21c585375ac7"
      },
      "execution_count": 3,
      "outputs": [
        {
          "output_type": "execute_result",
          "data": {
            "text/plain": [
              "<torch._C.Generator at 0x7e09643af890>"
            ]
          },
          "metadata": {},
          "execution_count": 3
        }
      ]
    },
    {
      "cell_type": "code",
      "source": [
        "import matplotlib.pyplot as plt\n",
        "\n",
        "X1, y1 = train_data[0]\n",
        "\n",
        "print(\"Label:\", y1)\n",
        "print(\"Image shape:\", X1.shape)\n",
        "\n",
        "plt.figure(figsize=(2, 3))\n",
        "plt.imshow(X1.squeeze(), cmap=\"gray\")\n",
        "plt.title(f\"Label: {y1}\")\n",
        "plt.axis(\"off\")\n",
        "plt.show()"
      ],
      "metadata": {
        "colab": {
          "base_uri": "https://localhost:8080/",
          "height": 249
        },
        "collapsed": true,
        "id": "UtCxg3A5eDIW",
        "outputId": "4f656474-5d5b-4ce7-972b-c344e344fddc"
      },
      "execution_count": 4,
      "outputs": [
        {
          "output_type": "stream",
          "name": "stdout",
          "text": [
            "Label: 9\n",
            "Image shape: torch.Size([1, 28, 28])\n"
          ]
        },
        {
          "output_type": "display_data",
          "data": {
            "text/plain": [
              "<Figure size 200x300 with 1 Axes>"
            ],
            "image/png": "[encoded data removed]"
          },
          "metadata": {}
        }
      ]
    },
    {
      "cell_type": "code",
      "source": [
        "X = torch.stack([img for img, _ in train_data])\n",
        "y = torch.tensor([label for _, label in train_data])"
      ],
      "metadata": {
        "id": "OIi6fe1yemb-"
      },
      "execution_count": 5,
      "outputs": []
    },
    {
      "cell_type": "code",
      "source": [
        "plt.figure(figsize=(2, 3))\n",
        "plt.imshow(X[0].squeeze(), cmap=\"gray\")\n",
        "plt.title(f\"Label: {y1}\")\n",
        "plt.axis(\"off\")\n",
        "plt.show()"
      ],
      "metadata": {
        "colab": {
          "base_uri": "https://localhost:8080/",
          "height": 214
        },
        "id": "nAtm_ZaefJ6f",
        "outputId": "1a949597-4924-4493-b363-12a5bb981405"
      },
      "execution_count": 6,
      "outputs": [
        {
          "output_type": "display_data",
          "data": {
            "text/plain": [
              "<Figure size 200x300 with 1 Axes>"
            ],
            "image/png": "[encoded data removed]"
          },
          "metadata": {}
        }
      ]
    },
    {
      "cell_type": "code",
      "source": [
        "X_train, X_test, y_train, y_test = train_test_split(X, y, test_size=0.2, random_state=42)"
      ],
      "metadata": {
        "id": "QklDbRjufiks"
      },
      "execution_count": 7,
      "outputs": []
    },
    {
      "cell_type": "code",
      "source": [
        "X_train = X_train/255.0\n",
        "X_test = X_test/255.0"
      ],
      "metadata": {
        "id": "KdP94r4Wfk_B"
      },
      "execution_count": 8,
      "outputs": []
    },
    {
      "cell_type": "code",
      "source": [
        "class CustomDataset(Dataset):\n",
        "    def __init__(self, features, labels):\n",
        "        self.features = features.clone().detach().float()  # ensure float32\n",
        "        self.labels = labels.clone().detach().long()       # ensure long\n",
        "    def __len__(self):\n",
        "        return len(self.features)\n",
        "    def __getitem__(self, idx):\n",
        "        return self.features[idx], self.labels[idx]\n"
      ],
      "metadata": {
        "id": "GGrMEfE2fnf9"
      },
      "execution_count": 9,
      "outputs": []
    },
    {
      "cell_type": "code",
      "source": [
        "train_dataset = CustomDataset(X_train, y_train)\n",
        "test_dataset = CustomDataset(X_test, y_test)"
      ],
      "metadata": {
        "id": "Q-ft8i6qf4Fg"
      },
      "execution_count": 10,
      "outputs": []
    },
    {
      "cell_type": "code",
      "source": [
        "train_loader = DataLoader(train_dataset, batch_size=100, shuffle=True)\n",
        "test_loader = DataLoader(test_dataset, batch_size=100, shuffle=False)"
      ],
      "metadata": {
        "id": "rPTjTy6hgW-8"
      },
      "execution_count": 11,
      "outputs": []
    },
    {
      "cell_type": "code",
      "source": [
        "class MySimpleANN(nn.Module):\n",
        "  def __init__(self, num_features = 784):\n",
        "    super().__init__()\n",
        "    self.ANN = nn.Sequential(\n",
        "        nn.Flatten(),\n",
        "        nn.Linear(num_features, 784),\n",
        "        nn.ReLU(),\n",
        "        nn.Linear(784, 100),\n",
        "        nn.ReLU(),\n",
        "        nn.Linear(100, 50),\n",
        "        nn.ReLU(),\n",
        "        nn.Linear(50, 10)\n",
        "    )\n",
        "\n",
        "  def forward(self,x):\n",
        "    return self.ANN(x)"
      ],
      "metadata": {
        "id": "d-pdhBojgm5e"
      },
      "execution_count": 12,
      "outputs": []
    },
    {
      "cell_type": "code",
      "source": [
        "epochs = 30\n",
        "learning_rate = 0.001"
      ],
      "metadata": {
        "id": "iycSy9nvhRFs"
      },
      "execution_count": 14,
      "outputs": []
    },
    {
      "cell_type": "code",
      "source": [
        "# instatiate the model\n",
        "model = MySimpleANN()\n",
        "\n",
        "# loss function\n",
        "criterion = nn.CrossEntropyLoss()\n",
        "\n",
        "# optimizer\n",
        "optimizer = optim.Adam(model.parameters(), lr= learning_rate)"
      ],
      "metadata": {
        "id": "nFUxWm8ehc9d"
      },
      "execution_count": 15,
      "outputs": []
    },
    {
      "cell_type": "code",
      "source": [
        "# training loop\n",
        "\n",
        "for epoch in range(epochs):\n",
        "\n",
        "  total_epoch_loss = 0\n",
        "\n",
        "  for batch_features, batch_labels in train_loader:\n",
        "\n",
        "    # forward pass\n",
        "    outputs = model(batch_features)\n",
        "\n",
        "    # calculate loss\n",
        "    loss = criterion(outputs, batch_labels)\n",
        "\n",
        "    # back pass\n",
        "    optimizer.zero_grad()\n",
        "    loss.backward()\n",
        "\n",
        "    # update grads\n",
        "    optimizer.step()\n",
        "\n",
        "    total_epoch_loss = total_epoch_loss + loss.item()\n",
        "\n",
        "  avg_loss = total_epoch_loss/len(train_loader)\n",
        "  print(f'Epoch: {epoch + 1} , Loss: {avg_loss}')"
      ],
      "metadata": {
        "colab": {
          "base_uri": "https://localhost:8080/"
        },
        "id": "8BnKN7Fxhlrr",
        "outputId": "cedde72c-5a54-43ac-f1da-1c656b42f776"
      },
      "execution_count": 16,
      "outputs": [
        {
          "output_type": "stream",
          "name": "stdout",
          "text": [
            "Epoch: 1 , Loss: 1.1228788292656342\n",
            "Epoch: 2 , Loss: 0.7313073759898543\n",
            "Epoch: 3 , Loss: 0.6685044065117836\n",
            "Epoch: 4 , Loss: 0.62075005689015\n",
            "Epoch: 5 , Loss: 0.5821846605588993\n",
            "Epoch: 6 , Loss: 0.5471043974161148\n",
            "Epoch: 7 , Loss: 0.5135206434254845\n",
            "Epoch: 8 , Loss: 0.4874794006037215\n",
            "Epoch: 9 , Loss: 0.46845350799461205\n",
            "Epoch: 10 , Loss: 0.44616817266990744\n",
            "Epoch: 11 , Loss: 0.4332749765987198\n",
            "Epoch: 12 , Loss: 0.41889992679158844\n",
            "Epoch: 13 , Loss: 0.40656186901032926\n",
            "Epoch: 14 , Loss: 0.3937892499690255\n",
            "Epoch: 15 , Loss: 0.3844952020173272\n",
            "Epoch: 16 , Loss: 0.37458755749588213\n",
            "Epoch: 17 , Loss: 0.36790482299402355\n",
            "Epoch: 18 , Loss: 0.3582658401379983\n",
            "Epoch: 19 , Loss: 0.3517782878751556\n",
            "Epoch: 20 , Loss: 0.34454430307572087\n",
            "Epoch: 21 , Loss: 0.33823650889098644\n",
            "Epoch: 22 , Loss: 0.3306738506692151\n",
            "Epoch: 23 , Loss: 0.3259232925561567\n",
            "Epoch: 24 , Loss: 0.31964947022497653\n",
            "Epoch: 25 , Loss: 0.3138380905302862\n",
            "Epoch: 26 , Loss: 0.30769692780449986\n",
            "Epoch: 27 , Loss: 0.3036483833876749\n",
            "Epoch: 28 , Loss: 0.29996227122222385\n",
            "Epoch: 29 , Loss: 0.29119827376368146\n",
            "Epoch: 30 , Loss: 0.2883130950853229\n"
          ]
        }
      ]
    },
    {
      "cell_type": "code",
      "source": [
        "model.eval()\n",
        "total = 0\n",
        "correct = 0\n",
        "\n",
        "with torch.no_grad():\n",
        "\n",
        "  for batch_features, batch_labels in test_loader:\n",
        "\n",
        "    outputs = model(batch_features)\n",
        "\n",
        "    _, predicted = torch.max(outputs, 1)\n",
        "\n",
        "    total = total + batch_labels.shape[0]\n",
        "\n",
        "    correct = correct + (predicted == batch_labels).sum().item()\n",
        "\n",
        "print(correct/total)"
      ],
      "metadata": {
        "colab": {
          "base_uri": "https://localhost:8080/"
        },
        "id": "qok6lGiDitCg",
        "outputId": "8a94cc62-072d-4ed5-9200-443418ac8555"
      },
      "execution_count": 17,
      "outputs": [
        {
          "output_type": "stream",
          "name": "stdout",
          "text": [
            "0.8793333333333333\n"
          ]
        }
      ]
    },
    {
      "cell_type": "code",
      "source": [
        "img, label = test_dataset[22]\n",
        "plt.imshow(img.squeeze(), cmap=\"gray\")\n",
        "plt.title(f\"True Label: {label}\")\n",
        "plt.show()\n"
      ],
      "metadata": {
        "colab": {
          "base_uri": "https://localhost:8080/",
          "height": 452
        },
        "id": "yZzmRzhZtCm9",
        "outputId": "3f5d55a7-1f38-40e8-92e6-f915cdfcd729"
      },
      "execution_count": 18,
      "outputs": [
        {
          "output_type": "display_data",
          "data": {
            "text/plain": [
              "<Figure size 640x480 with 1 Axes>"
            ],
            "image/png": "[encoded data removed]"
          },
          "metadata": {}
        }
      ]
    },
    {
      "cell_type": "code",
      "source": [
        "x = img.view(-1, 28*28)   # flatten (1, 784)"
      ],
      "metadata": {
        "id": "8nH6NqfHrNKx"
      },
      "execution_count": 19,
      "outputs": []
    },
    {
      "cell_type": "code",
      "source": [
        "model.eval()\n",
        "with torch.no_grad():\n",
        "    outputs = model(x)\n",
        "    max_prob, predicted = torch.max(outputs, 1)"
      ],
      "metadata": {
        "id": "biXhnNjRtNfH"
      },
      "execution_count": 20,
      "outputs": []
    },
    {
      "cell_type": "code",
      "source": [
        "import torch.nn.functional as F\n",
        "\n",
        "model.eval()\n",
        "with torch.no_grad():\n",
        "    outputs = model(x)\n",
        "    probs = F.softmax(outputs, dim=1)  # convert logits → probabilities\n",
        "    max_prob, predicted = torch.max(probs, 1)  # max prob & class index\n",
        "\n",
        "print(\"Predicted class index:\", predicted.item())\n",
        "print(\"Max Probability:\", max_prob.item())\n",
        "print(\"True Label:\", label)"
      ],
      "metadata": {
        "colab": {
          "base_uri": "https://localhost:8080/"
        },
        "id": "aFE4hlAjuF0Z",
        "outputId": "15a19768-3771-4b6f-f1a4-e89a80416ae2"
      },
      "execution_count": 21,
      "outputs": [
        {
          "output_type": "stream",
          "name": "stdout",
          "text": [
            "Predicted class index: 2\n",
            "Max Probability: 0.8588912487030029\n",
            "True Label: tensor(2)\n"
          ]
        }
      ]
    }
  ]
}