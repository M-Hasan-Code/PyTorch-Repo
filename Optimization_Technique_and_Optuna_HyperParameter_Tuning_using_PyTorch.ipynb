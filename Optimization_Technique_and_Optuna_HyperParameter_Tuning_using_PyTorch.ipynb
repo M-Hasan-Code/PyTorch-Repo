{
  "cells": [
    {
      "cell_type": "code",
      "source": [
        "!pip install optuna"
      ],
      "metadata": {
        "id": "y5M85uxiC4sX"
      },
      "execution_count": 1,
      "outputs": []
    },
    {
      "cell_type": "code",
      "execution_count": 2,
      "metadata": {
        "id": "_mNLHDYUd1Nr"
      },
      "outputs": [],
      "source": [
        "import pandas as pd\n",
        "from sklearn.model_selection import train_test_split\n",
        "import numpy as np\n",
        "import optuna\n",
        "import torch\n",
        "from torch.utils.data import Dataset, DataLoader\n",
        "import torch.nn as nn\n",
        "import torch.optim as optim\n",
        "from torchvision import datasets, transforms"
      ]
    },
    {
      "cell_type": "code",
      "execution_count": 3,
      "metadata": {
        "colab": {
          "base_uri": "https://localhost:8080/"
        },
        "id": "ZFalBALdkn09",
        "outputId": "cd63dd33-2744-4c4c-9630-1a6b3d8fe65e"
      },
      "outputs": [
        {
          "output_type": "execute_result",
          "data": {
            "text/plain": [
              "device(type='cuda')"
            ]
          },
          "metadata": {},
          "execution_count": 3
        }
      ],
      "source": [
        "if torch.cuda.is_available():\n",
        "  device = torch.device(\"cuda\")\n",
        "else:\n",
        "  device = torch.device(\"cpu\")\n",
        "\n",
        "device"
      ]
    },
    {
      "cell_type": "code",
      "execution_count": 4,
      "metadata": {
        "colab": {
          "base_uri": "https://localhost:8080/"
        },
        "id": "I-VKxkYdwu2Z",
        "outputId": "d78d040b-04bd-47c0-af97-0b46a20390dd"
      },
      "outputs": [
        {
          "output_type": "execute_result",
          "data": {
            "text/plain": [
              "<torch._C.Generator at 0x7a6062e5b8f0>"
            ]
          },
          "metadata": {},
          "execution_count": 4
        }
      ],
      "source": [
        "# Set random seeds for reproducibility\n",
        "torch.manual_seed(42)"
      ]
    },
    {
      "cell_type": "code",
      "execution_count": 5,
      "metadata": {
        "colab": {
          "base_uri": "https://localhost:8080/"
        },
        "id": "13EjF6Wyd6ID",
        "outputId": "bab02ebc-1199-4bf1-f4d5-bc179bbd7628"
      },
      "outputs": [
        {
          "output_type": "stream",
          "name": "stderr",
          "text": [
            "100%|██████████| 26.4M/26.4M [00:02<00:00, 10.6MB/s]\n",
            "100%|██████████| 29.5k/29.5k [00:00<00:00, 160kB/s]\n",
            "100%|██████████| 4.42M/4.42M [00:01<00:00, 3.11MB/s]\n",
            "100%|██████████| 5.15k/5.15k [00:00<00:00, 13.6MB/s]\n"
          ]
        }
      ],
      "source": [
        "train_data = datasets.FashionMNIST(root='data', train=True, download=True, transform=transforms.ToTensor())"
      ]
    },
    {
      "cell_type": "code",
      "execution_count": 6,
      "metadata": {
        "id": "lmlWHcmqlDJE"
      },
      "outputs": [],
      "source": [
        "test_data = datasets.FashionMNIST(root='data', train=False, download=True, transform=transforms.ToTensor())"
      ]
    },
    {
      "cell_type": "code",
      "execution_count": 7,
      "metadata": {
        "colab": {
          "base_uri": "https://localhost:8080/",
          "height": 249
        },
        "id": "UtCxg3A5eDIW",
        "outputId": "c10c035b-2b6e-4c09-dc30-d87b4997ecc9"
      },
      "outputs": [
        {
          "output_type": "stream",
          "name": "stdout",
          "text": [
            "Label: 9\n",
            "Image shape: torch.Size([1, 28, 28])\n"
          ]
        },
        {
          "output_type": "display_data",
          "data": {
            "text/plain": [
              "<Figure size 200x300 with 1 Axes>"
            ],
            "image/png": "[encoded data removed]"
          },
          "metadata": {}
        }
      ],
      "source": [
        "import matplotlib.pyplot as plt\n",
        "\n",
        "X1, y1 = train_data[0]\n",
        "print(\"Label:\", y1)\n",
        "print(\"Image shape:\", X1.shape)\n",
        "\n",
        "plt.figure(figsize=(2, 3))\n",
        "plt.imshow(X1.squeeze(), cmap=\"gray\")\n",
        "plt.title(f\"Label: {y1}\")\n",
        "plt.axis(\"off\")\n",
        "plt.show()"
      ]
    },
    {
      "cell_type": "code",
      "source": [
        "class MyOptunaNN(nn.Module):\n",
        "  def __init__(self, input_dim,output_dim, hidden_units, neurons_per_layer, dropout_rate):\n",
        "    super().__init__()\n",
        "    layers = []\n",
        "    layers.append(nn.Flatten())\n",
        "    layers.append(nn.Linear(input_dim, input_dim))\n",
        "    layers.append(nn.BatchNorm1d(input_dim))\n",
        "    layers.append(nn.ReLU())\n",
        "    layers.append(nn.Dropout(p=dropout_rate))\n",
        "    for i in range(hidden_units-1):\n",
        "      layers.append(nn.Linear(input_dim, neurons_per_layer))\n",
        "      layers.append(nn.BatchNorm1d(neurons_per_layer))\n",
        "      layers.append(nn.ReLU())\n",
        "      layers.append(nn.Dropout(p=dropout_rate))\n",
        "      input_dim = neurons_per_layer\n",
        "    layers.append(nn.Linear(input_dim, output_dim))\n",
        "    self.ANN = nn.Sequential(*layers)\n",
        "\n",
        "  def forward(self,x):\n",
        "    return self.ANN(x)"
      ],
      "metadata": {
        "id": "0VR4FFLK-p_k"
      },
      "execution_count": 8,
      "outputs": []
    },
    {
      "cell_type": "code",
      "execution_count": 9,
      "metadata": {
        "id": "rPTjTy6hgW-8"
      },
      "outputs": [],
      "source": [
        "# objective function\n",
        "def objective(trial):\n",
        "\n",
        "  # next hyperparameter values from the search space\n",
        "  num_hidden_layers = trial.suggest_int(\"num_hidden_layers\", 2, 3, step=1)\n",
        "  neurons_per_layer = trial.suggest_int(\"neurons_per_layer\", 16, 128, step=16)\n",
        "  epochs = trial.suggest_int(\"epochs\", 10, 70, step=10)\n",
        "  learning_rate = trial.suggest_float(\"learning_rate\", 1e-5, 1e-1, log=True)\n",
        "  dropout_rate = trial.suggest_float(\"dropout_rate\", 0.1, 0.5, step=0.1)\n",
        "  batch_size = trial.suggest_categorical(\"batch_size\", [50,100])\n",
        "  optimizer_name = trial.suggest_categorical(\"optimizer\", ['Adam', 'RMSprop'])\n",
        "  weight_decay = trial.suggest_float(\"weight_decay\", 1e-5, 1e-3, log=True)\n",
        "\n",
        "  train_loader = DataLoader(train_data, batch_size=batch_size, shuffle=True, pin_memory=True)\n",
        "  test_loader = DataLoader(test_data, batch_size=batch_size, shuffle=False, pin_memory=True)\n",
        "\n",
        "  # model init\n",
        "  input_dim = 784\n",
        "  output_dim = 10\n",
        "\n",
        "  model = MyOptunaNN(input_dim, output_dim, num_hidden_layers, neurons_per_layer, dropout_rate)\n",
        "  model.to(device)\n",
        "\n",
        "  # optimizer selection\n",
        "  criterion = nn.CrossEntropyLoss()\n",
        "  optimizer = optim.SGD(model.parameters(), lr=0.1, weight_decay=1e-4)\n",
        "\n",
        "  if optimizer_name == 'Adam':\n",
        "    optim.Adam(model.parameters(), lr=learning_rate, weight_decay=weight_decay)\n",
        "  elif optimizer_name == 'SGD':\n",
        "    optim.SGD(model.parameters(), lr=learning_rate, weight_decay=weight_decay)\n",
        "  else:\n",
        "    optim.RMSprop(model.parameters(), lr=learning_rate, weight_decay=weight_decay)\n",
        "\n",
        "  # training loop\n",
        "\n",
        "  for epoch in range(epochs):\n",
        "\n",
        "    for batch_features, batch_labels in train_loader:\n",
        "\n",
        "      # move data to gpu\n",
        "      batch_features, batch_labels = batch_features.to(device), batch_labels.to(device)\n",
        "\n",
        "      # forward pass\n",
        "      outputs = model(batch_features)\n",
        "\n",
        "      # calculate loss\n",
        "      loss = criterion(outputs, batch_labels)\n",
        "\n",
        "      # back pass\n",
        "      optimizer.zero_grad()\n",
        "      loss.backward()\n",
        "\n",
        "      # update grads\n",
        "      optimizer.step()\n",
        "\n",
        "\n",
        "  # evaluation\n",
        "  model.eval()\n",
        "  # evaluation on test data\n",
        "  total = 0\n",
        "  correct = 0\n",
        "\n",
        "  with torch.no_grad():\n",
        "\n",
        "    for batch_features, batch_labels in test_loader:\n",
        "\n",
        "      # move data to gpu\n",
        "      batch_features, batch_labels = batch_features.to(device), batch_labels.to(device)\n",
        "\n",
        "      outputs = model(batch_features)\n",
        "\n",
        "      _, predicted = torch.max(outputs, 1)\n",
        "\n",
        "      total = total + batch_labels.shape[0]\n",
        "\n",
        "      correct = correct + (predicted == batch_labels).sum().item()\n",
        "\n",
        "    accuracy = correct/total\n",
        "\n",
        "  return accuracy"
      ]
    },
    {
      "cell_type": "code",
      "source": [
        "study = optuna.create_study(direction=\"maximize\")"
      ],
      "metadata": {
        "colab": {
          "base_uri": "https://localhost:8080/"
        },
        "id": "qC8WclDQBvYp",
        "outputId": "24c874e8-a0ca-4617-9d8e-f2d3451755be"
      },
      "execution_count": 10,
      "outputs": [
        {
          "output_type": "stream",
          "name": "stderr",
          "text": [
            "[I 2025-09-03 15:14:53,086] A new study created in memory with name: no-name-ee698319-0b8c-49e8-8c91-70ef5a4149d0\n"
          ]
        }
      ]
    },
    {
      "cell_type": "code",
      "source": [
        "study.optimize(objective, n_trials=6)"
      ],
      "metadata": {
        "colab": {
          "base_uri": "https://localhost:8080/"
        },
        "id": "QddJtVhNB7BL",
        "outputId": "a9646aed-df91-4810-893d-6e8359a075a1"
      },
      "execution_count": 15,
      "outputs": [
        {
          "output_type": "stream",
          "name": "stdout",
          "text": [
            "\n",
            "[I 2025-09-03 14:49:17,031] Trial 0 finished with value: 0.8801 and parameters: {'num_hidden_layers': 3, 'neurons_per_layer': 32, 'epochs': 10, 'learning_rate': 0.02277738788107614, 'dropout_rate': 0.30000000000000004, 'batch_size': 100, 'optimizer': 'RMSprop', 'weight_decay': 0.00011262827325735321}. Best is trial 0 with value: 0.8801.\n",
            "[I 2025-09-03 14:58:47,887] Trial 1 finished with value: 0.9008 and parameters: {'num_hidden_layers': 2, 'neurons_per_layer': 128, 'epochs': 70, 'learning_rate': 3.753611905785061e-05, 'dropout_rate': 0.30000000000000004, 'batch_size': 50, 'optimizer': 'RMSprop', 'weight_decay': 3.723107333366884e-05}. Best is trial 1 with value: 0.9008.\n",
            "[I 2025-09-03 15:00:14,962] Trial 2 finished with value: 0.8834 and parameters: {'num_hidden_layers': 3, 'neurons_per_layer': 96, 'epochs': 10, 'learning_rate': 0.0012862187752570502, 'dropout_rate': 0.30000000000000004, 'batch_size': 50, 'optimizer': 'Adam', 'weight_decay': 0.0002633515843894752}. Best is trial 1 with value: 0.9008.\n",
            "[I 2025-09-03 15:02:39,047] Trial 3 finished with value: 0.8872 and parameters: {'num_hidden_layers': 3, 'neurons_per_layer': 80, 'epochs': 20, 'learning_rate': 0.0020495920753557076, 'dropout_rate': 0.2, 'batch_size': 100, 'optimizer': 'Adam', 'weight_decay': 0.00014379001924463267}. Best is trial 1 with value: 0.9008.\n",
            "[I 2025-09-03 15:07:26,583] Trial 4 finished with value: 0.8921 and parameters: {'num_hidden_layers': 3, 'neurons_per_layer': 48, 'epochs': 40, 'learning_rate': 0.005673418510265724, 'dropout_rate': 0.30000000000000004, 'batch_size': 100, 'optimizer': 'RMSprop', 'weight_decay': 3.628587459394886e-05}. Best is trial 1 with value: 0.9008.\n",
            "[I 2025-09-03 15:13:16,967] Trial 5 finished with value: 0.8912 and parameters: {'num_hidden_layers': 2, 'neurons_per_layer': 16, 'epochs': 50, 'learning_rate': 2.9742477941155115e-05, 'dropout_rate': 0.1, 'batch_size': 100, 'optimizer': 'Adam', 'weight_decay': 3.093132086882789e-05}. Best is trial 1 with value: 0.9008.\n",
            "\n"
          ]
        }
      ]
    },
    {
      "cell_type": "code",
      "source": [
        "\n",
        "print(\"Best trial:\")\n",
        "trial = study.best_trial\n",
        "print(f\"  Accuracy: {trial.value}\")\n",
        "print(\"  Params: \")\n",
        "for key, value in trial.params.items():\n",
        "    print(f\"    {key}: {value}\")"
      ],
      "metadata": {
        "id": "rdKj9LuPDn9D"
      },
      "execution_count": 16,
      "outputs": []
    },
    {
      "cell_type": "code",
      "source": [
        "train_loader = DataLoader(train_data, batch_size=50, shuffle=True, pin_memory=True)\n",
        "test_loader = DataLoader(test_data, batch_size=50, shuffle=False, pin_memory=True)"
      ],
      "metadata": {
        "id": "dMcyxMseKxhy"
      },
      "execution_count": 17,
      "outputs": []
    },
    {
      "cell_type": "code",
      "source": [
        "class BestNN(nn.Module):\n",
        "    def __init__(self, input_dim=784, output_dim=10):\n",
        "        super().__init__()\n",
        "        self.model = nn.Sequential(\n",
        "            nn.Flatten(),\n",
        "            nn.Linear(input_dim, 784),\n",
        "            nn.BatchNorm1d(784),\n",
        "            nn.ReLU(),\n",
        "            nn.Dropout(0.3),\n",
        "\n",
        "            nn.Linear(784, 128),\n",
        "            nn.BatchNorm1d(128),\n",
        "            nn.ReLU(),\n",
        "            nn.Dropout(0.3),\n",
        "\n",
        "            nn.Linear(128, output_dim)\n",
        "        )\n",
        "\n",
        "    def forward(self, x):\n",
        "        return self.model(x)\n",
        "\n",
        "\n",
        "epochs = 70\n",
        "batch_size = 50\n",
        "learning_rate = 3.75e-05\n",
        "weight_decay = 3.72e-05\n",
        "\n",
        "\n",
        "model = BestNN().to(device)\n",
        "\n",
        "criterion = nn.CrossEntropyLoss()\n",
        "optimizer = optim.RMSprop(model.parameters(), lr=learning_rate, weight_decay=weight_decay)\n",
        "\n",
        "for epoch in range(epochs):\n",
        "    model.train()\n",
        "    running_loss = 0.0\n",
        "\n",
        "    for batch_features, batch_labels in train_loader:\n",
        "        batch_features, batch_labels = batch_features.to(device), batch_labels.to(device)\n",
        "\n",
        "        # Forward pass\n",
        "        outputs = model(batch_features)\n",
        "        loss = criterion(outputs, batch_labels)\n",
        "\n",
        "        # Backward pass\n",
        "        optimizer.zero_grad()\n",
        "        loss.backward()\n",
        "        optimizer.step()\n",
        "\n",
        "        running_loss += loss.item()\n",
        "\n",
        "    print(f\"Epoch [{epoch+1}/{epochs}], Loss: {running_loss/len(train_loader):.4f}\")\n"
      ],
      "metadata": {
        "colab": {
          "base_uri": "https://localhost:8080/"
        },
        "id": "2_tTxq2pJ8QT",
        "outputId": "b0a85ad8-b90f-4b0a-ed28-b04dd4742d41"
      },
      "execution_count": 19,
      "outputs": [
        {
          "output_type": "stream",
          "name": "stdout",
          "text": [
            "Epoch [1/70], Loss: 0.7463\n",
            "Epoch [2/70], Loss: 0.4939\n",
            "Epoch [3/70], Loss: 0.4266\n",
            "Epoch [4/70], Loss: 0.3921\n",
            "Epoch [5/70], Loss: 0.3678\n",
            "Epoch [6/70], Loss: 0.3463\n",
            "Epoch [7/70], Loss: 0.3354\n",
            "Epoch [8/70], Loss: 0.3207\n",
            "Epoch [9/70], Loss: 0.3111\n",
            "Epoch [10/70], Loss: 0.3022\n",
            "Epoch [11/70], Loss: 0.2936\n",
            "Epoch [12/70], Loss: 0.2865\n",
            "Epoch [13/70], Loss: 0.2754\n",
            "Epoch [14/70], Loss: 0.2725\n",
            "Epoch [15/70], Loss: 0.2644\n",
            "Epoch [16/70], Loss: 0.2563\n",
            "Epoch [17/70], Loss: 0.2516\n",
            "Epoch [18/70], Loss: 0.2471\n",
            "Epoch [19/70], Loss: 0.2424\n",
            "Epoch [20/70], Loss: 0.2372\n",
            "Epoch [21/70], Loss: 0.2299\n",
            "Epoch [22/70], Loss: 0.2268\n",
            "Epoch [23/70], Loss: 0.2206\n",
            "Epoch [24/70], Loss: 0.2166\n",
            "Epoch [25/70], Loss: 0.2153\n",
            "Epoch [26/70], Loss: 0.2116\n",
            "Epoch [27/70], Loss: 0.2074\n",
            "Epoch [28/70], Loss: 0.2020\n",
            "Epoch [29/70], Loss: 0.1983\n",
            "Epoch [30/70], Loss: 0.1975\n",
            "Epoch [31/70], Loss: 0.1920\n",
            "Epoch [32/70], Loss: 0.1888\n",
            "Epoch [33/70], Loss: 0.1844\n",
            "Epoch [34/70], Loss: 0.1832\n",
            "Epoch [35/70], Loss: 0.1792\n",
            "Epoch [36/70], Loss: 0.1766\n",
            "Epoch [37/70], Loss: 0.1719\n",
            "Epoch [38/70], Loss: 0.1713\n",
            "Epoch [39/70], Loss: 0.1694\n",
            "Epoch [40/70], Loss: 0.1650\n",
            "Epoch [41/70], Loss: 0.1624\n",
            "Epoch [42/70], Loss: 0.1599\n",
            "Epoch [43/70], Loss: 0.1568\n",
            "Epoch [44/70], Loss: 0.1540\n",
            "Epoch [45/70], Loss: 0.1502\n",
            "Epoch [46/70], Loss: 0.1494\n",
            "Epoch [47/70], Loss: 0.1443\n",
            "Epoch [48/70], Loss: 0.1461\n",
            "Epoch [49/70], Loss: 0.1433\n",
            "Epoch [50/70], Loss: 0.1406\n",
            "Epoch [51/70], Loss: 0.1400\n",
            "Epoch [52/70], Loss: 0.1380\n",
            "Epoch [53/70], Loss: 0.1351\n",
            "Epoch [54/70], Loss: 0.1328\n",
            "Epoch [55/70], Loss: 0.1315\n",
            "Epoch [56/70], Loss: 0.1299\n",
            "Epoch [57/70], Loss: 0.1256\n",
            "Epoch [58/70], Loss: 0.1256\n",
            "Epoch [59/70], Loss: 0.1238\n",
            "Epoch [60/70], Loss: 0.1252\n",
            "Epoch [61/70], Loss: 0.1212\n",
            "Epoch [62/70], Loss: 0.1205\n",
            "Epoch [63/70], Loss: 0.1186\n",
            "Epoch [64/70], Loss: 0.1166\n",
            "Epoch [65/70], Loss: 0.1156\n",
            "Epoch [66/70], Loss: 0.1121\n",
            "Epoch [67/70], Loss: 0.1132\n",
            "Epoch [68/70], Loss: 0.1124\n",
            "Epoch [69/70], Loss: 0.1076\n",
            "Epoch [70/70], Loss: 0.1091\n"
          ]
        }
      ]
    },
    {
      "cell_type": "code",
      "source": [
        "model.eval()\n",
        "total = 0\n",
        "correct = 0\n",
        "\n",
        "with torch.no_grad():\n",
        "\n",
        "  for batch_features, batch_labels in test_loader:\n",
        "    batch_features = batch_features.to(device)\n",
        "    batch_labels = batch_labels.to(device)\n",
        "\n",
        "    outputs = model(batch_features)\n",
        "\n",
        "    _, predicted = torch.max(outputs, 1)\n",
        "\n",
        "    total = total + batch_labels.shape[0]\n",
        "\n",
        "    correct = correct + (predicted == batch_labels).sum().item()\n",
        "\n",
        "print(correct/total)"
      ],
      "metadata": {
        "colab": {
          "base_uri": "https://localhost:8080/"
        },
        "id": "CFTgwTJiJxQt",
        "outputId": "f2988bc3-c940-4a64-9361-492ff5f7c09f"
      },
      "execution_count": 20,
      "outputs": [
        {
          "output_type": "stream",
          "name": "stdout",
          "text": [
            "0.901\n"
          ]
        }
      ]
    },
    {
      "cell_type": "code",
      "execution_count": 21,
      "metadata": {
        "colab": {
          "base_uri": "https://localhost:8080/"
        },
        "id": "3NvvMjkyo3Hs",
        "outputId": "63d22ebb-0058-4b82-c1d6-f2a812fe0b08"
      },
      "outputs": [
        {
          "output_type": "stream",
          "name": "stdout",
          "text": [
            "0.9842666666666666\n"
          ]
        }
      ],
      "source": [
        "model.eval()\n",
        "total = 0\n",
        "correct = 0\n",
        "\n",
        "with torch.no_grad():\n",
        "\n",
        "  for batch_features, batch_labels in train_loader:\n",
        "    batch_features = batch_features.to(device)\n",
        "    batch_labels = batch_labels.to(device)\n",
        "\n",
        "    outputs = model(batch_features)\n",
        "\n",
        "    _, predicted = torch.max(outputs, 1)\n",
        "\n",
        "    total = total + batch_labels.shape[0]\n",
        "\n",
        "    correct = correct + (predicted == batch_labels).sum().item()\n",
        "\n",
        "print(correct/total)"
      ]
    },
    {
      "cell_type": "code",
      "execution_count": 25,
      "metadata": {
        "colab": {
          "base_uri": "https://localhost:8080/",
          "height": 452
        },
        "id": "yZzmRzhZtCm9",
        "outputId": "4592b756-808d-4940-9884-407c14e799f4"
      },
      "outputs": [
        {
          "output_type": "display_data",
          "data": {
            "text/plain": [
              "<Figure size 640x480 with 1 Axes>"
            ],
            "image/png": "[encoded data removed]"
          },
          "metadata": {}
        }
      ],
      "source": [
        "\n",
        "import matplotlib.pyplot as plt\n",
        "\n",
        "img, label = test_data[4]\n",
        "plt.imshow(img.squeeze(), cmap=\"gray\")\n",
        "plt.title(f\"True Label: {label}\")\n",
        "plt.show()"
      ]
    },
    {
      "cell_type": "code",
      "execution_count": 26,
      "metadata": {
        "id": "8nH6NqfHrNKx"
      },
      "outputs": [],
      "source": [
        "x = img.view(-1, 28*28)   # flatten (1, 784)"
      ]
    },
    {
      "cell_type": "code",
      "execution_count": 27,
      "metadata": {
        "id": "biXhnNjRtNfH"
      },
      "outputs": [],
      "source": [
        "model.eval()\n",
        "with torch.no_grad():\n",
        "    x = x.to(device)\n",
        "    outputs = model(x)\n",
        "    max_prob, predicted = torch.max(outputs, 1)"
      ]
    },
    {
      "cell_type": "code",
      "execution_count": 28,
      "metadata": {
        "colab": {
          "base_uri": "https://localhost:8080/"
        },
        "id": "aFE4hlAjuF0Z",
        "outputId": "8b0c81c5-ffd3-4a9c-a78b-c4839648df5c"
      },
      "outputs": [
        {
          "output_type": "stream",
          "name": "stdout",
          "text": [
            "Predicted class index: 6\n",
            "Max Probability: 0.9484632015228271\n",
            "True Label: 6\n"
          ]
        }
      ],
      "source": [
        "import torch.nn.functional as F\n",
        "\n",
        "model.eval()\n",
        "with torch.no_grad():\n",
        "    outputs = model(x)\n",
        "    probs = F.softmax(outputs, dim=1)  # convert logits → probabilities\n",
        "    max_prob, predicted = torch.max(probs, 1)  # max prob & class index\n",
        "\n",
        "print(\"Predicted class index:\", predicted.item())\n",
        "print(\"Max Probability:\", max_prob.item())\n",
        "print(\"True Label:\", label)"
      ]
    }
  ],
  "metadata": {
    "accelerator": "GPU",
    "colab": {
      "gpuType": "T4",
      "provenance": []
    },
    "kernelspec": {
      "display_name": "Python 3",
      "name": "python3"
    },
    "language_info": {
      "name": "python"
    }
  },
  "nbformat": 4,
  "nbformat_minor": 0
}