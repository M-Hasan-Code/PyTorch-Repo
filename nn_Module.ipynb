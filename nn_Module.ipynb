{
  "nbformat": 4,
  "nbformat_minor": 0,
  "metadata": {
    "colab": {
      "provenance": []
    },
    "kernelspec": {
      "name": "python3",
      "display_name": "Python 3"
    },
    "language_info": {
      "name": "python"
    }
  },
  "cells": [
    {
      "cell_type": "code",
      "source": [
        "import numpy as np\n",
        "import pandas as pd\n",
        "import torch\n",
        "import random\n",
        "from sklearn.model_selection import train_test_split\n",
        "from sklearn.preprocessing import StandardScaler, LabelEncoder\n",
        "import torch.nn as nn\n",
        "import torch.optim as optim\n",
        "\n",
        "# -------------------------\n",
        "# Fix Random Seeds\n",
        "# -------------------------\n",
        "torch.manual_seed(42)\n",
        "np.random.seed(42)\n",
        "random.seed(42)\n",
        "\n",
        "df = pd.read_csv('https://raw.githubusercontent.com/gscdit/Breast-Cancer-Detection/refs/heads/master/data.csv')\n",
        "\n",
        "# -------------------------\n",
        "# Data Prep\n",
        "# -------------------------\n",
        "df.drop(columns=['id', 'Unnamed: 32'], inplace=True)\n",
        "\n",
        "X_train, X_test, y_train, y_test = train_test_split(\n",
        "    df.iloc[:, 1:], df.iloc[:, 0], test_size=0.2, random_state=42\n",
        ")\n",
        "\n",
        "scaler = StandardScaler()\n",
        "X_train = scaler.fit_transform(X_train)\n",
        "X_test = scaler.transform(X_test)\n",
        "\n",
        "encoder = LabelEncoder()\n",
        "y_train = encoder.fit_transform(y_train)\n",
        "y_test = encoder.transform(y_test)\n",
        "\n",
        "X_train_tensor = torch.from_numpy(X_train.astype(np.float32))\n",
        "X_test_tensor  = torch.from_numpy(X_test.astype(np.float32))\n",
        "y_train_tensor = torch.from_numpy(y_train.astype(np.float32)).view(-1, 1)\n",
        "y_test_tensor  = torch.from_numpy(y_test.astype(np.float32)).view(-1, 1)\n",
        "\n",
        "# -------------------------\n",
        "# Model with Sigmoid\n",
        "# -------------------------\n",
        "class MySimpleNN(nn.Module):\n",
        "    def __init__(self, input_size):\n",
        "        super().__init__()\n",
        "        self.model = nn.Sequential(\n",
        "            nn.Linear(input_size, 64),\n",
        "            nn.ReLU(),\n",
        "            nn.Linear(64, 32),\n",
        "            nn.ReLU(),\n",
        "            nn.Linear(32, 1),\n",
        "            nn.Sigmoid()   # sigmoid is here\n",
        "        )\n",
        "    def forward(self, x):\n",
        "        return self.model(x)\n",
        "\n",
        "model = MySimpleNN(X_train.shape[1])\n",
        "\n",
        "# -------------------------\n",
        "# Loss & Optimizer\n",
        "# -------------------------\n",
        "loss_function = nn.BCELoss()   # requires sigmoid output\n",
        "optimizer = optim.Adam(model.parameters(), lr=0.001)\n",
        "\n",
        "# -------------------------\n",
        "# Training\n",
        "# -------------------------\n",
        "epochs = 200\n",
        "for epoch in range(epochs):\n",
        "    y_pred = model(X_train_tensor)             # already probabilities\n",
        "    loss = loss_function(y_pred, y_train_tensor)\n",
        "\n",
        "    optimizer.zero_grad()\n",
        "    loss.backward()\n",
        "    optimizer.step()\n",
        "\n",
        "    if (epoch+1) % 50 == 0:\n",
        "        print(f\"Epoch [{epoch+1}/{epochs}], Loss: {loss.item():.4f}\")\n",
        "\n",
        "# -------------------------\n",
        "# Evaluation\n",
        "# -------------------------\n",
        "with torch.no_grad():\n",
        "    y_pred = model(X_test_tensor)             # already probabilities\n",
        "    y_pred_cls = (y_pred > 0.5).float()\n",
        "    acc = (y_pred_cls == y_test_tensor).float().mean()\n",
        "    print(f\"Accuracy: {acc.item()*100:.2f}%\")"
      ],
      "metadata": {
        "colab": {
          "base_uri": "https://localhost:8080/"
        },
        "id": "hREZj6YOgZTj",
        "outputId": "27d327c8-0d72-41c1-a6f0-97833bdcf430"
      },
      "execution_count": null,
      "outputs": [
        {
          "output_type": "stream",
          "name": "stdout",
          "text": [
            "Epoch [50/200], Loss: 0.1558\n",
            "Epoch [100/200], Loss: 0.0587\n",
            "Epoch [150/200], Loss: 0.0381\n",
            "Epoch [200/200], Loss: 0.0252\n",
            "Accuracy: 98.25%\n"
          ]
        }
      ]
    },
    {
      "cell_type": "code",
      "source": [
        "new_data = X_test[0:1]\n",
        "\n",
        "new_tensor = torch.tensor(new_data, dtype=torch.float32).view(1, -1)\n",
        "\n",
        "model.eval()\n",
        "with torch.no_grad():\n",
        "    y_proba = model(new_tensor)\n",
        "    y_class = (y_proba > 0.5).float()\n",
        "    print(\"Predicted Probability:\", y_proba.item())\n",
        "    print(\"Predicted Class:\", int(y_class.item()))\n"
      ],
      "metadata": {
        "colab": {
          "base_uri": "https://localhost:8080/"
        },
        "id": "pVLMRTbUinOJ",
        "outputId": "03d93dfd-cce3-47f8-8aa6-139c7f64aaeb"
      },
      "execution_count": null,
      "outputs": [
        {
          "output_type": "stream",
          "name": "stdout",
          "text": [
            "Predicted Probability: 0.05342916399240494\n",
            "Predicted Class: 0\n"
          ]
        }
      ]
    }
  ]
}