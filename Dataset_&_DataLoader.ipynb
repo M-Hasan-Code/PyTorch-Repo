{
  "nbformat": 4,
  "nbformat_minor": 0,
  "metadata": {
    "colab": {
      "provenance": []
    },
    "kernelspec": {
      "name": "python3",
      "display_name": "Python 3"
    },
    "language_info": {
      "name": "python"
    }
  },
  "cells": [
    {
      "cell_type": "code",
      "source": [
        "import numpy as np\n",
        "import pandas as pd\n",
        "import torch\n",
        "import random\n",
        "from sklearn.model_selection import train_test_split\n",
        "from sklearn.preprocessing import StandardScaler, LabelEncoder\n",
        "import torch.nn as nn\n",
        "import torch.optim as optim\n",
        "\n",
        "# -------------------------\n",
        "# Fix Random Seeds\n",
        "# -------------------------\n",
        "torch.manual_seed(42)\n",
        "np.random.seed(42)\n",
        "random.seed(42)\n",
        "\n",
        "df = pd.read_csv('https://raw.githubusercontent.com/gscdit/Breast-Cancer-Detection/refs/heads/master/data.csv')"
      ],
      "metadata": {
        "id": "hREZj6YOgZTj"
      },
      "execution_count": 2,
      "outputs": []
    },
    {
      "cell_type": "markdown",
      "source": [
        "#**Dataset and DataLoader**"
      ],
      "metadata": {
        "id": "ZprV2QLvNuGg"
      }
    },
    {
      "cell_type": "code",
      "source": [
        "df.drop(columns=['id', 'Unnamed: 32'], inplace=True)"
      ],
      "metadata": {
        "id": "-9XA_KrXNZkj"
      },
      "execution_count": 133,
      "outputs": []
    },
    {
      "cell_type": "code",
      "source": [
        "# Target (diagnosis column mapped to 1 and 0)\n",
        "y = df['diagnosis'].map({'M': 1, 'B': 0})\n",
        "\n",
        "# Features (all columns except 'diagnosis')\n",
        "X = df.drop('diagnosis', axis=1)"
      ],
      "metadata": {
        "id": "tDn0GEDCO1NN"
      },
      "execution_count": 134,
      "outputs": []
    },
    {
      "cell_type": "code",
      "source": [
        "X = X.to_numpy()\n",
        "\n",
        "y = y.to_numpy()"
      ],
      "metadata": {
        "id": "58NsvFkIN-oj"
      },
      "execution_count": 135,
      "outputs": []
    },
    {
      "cell_type": "code",
      "source": [
        "from torch.utils.data import Dataset, DataLoader"
      ],
      "metadata": {
        "id": "C1MFB5SYOKjX"
      },
      "execution_count": 138,
      "outputs": []
    },
    {
      "cell_type": "code",
      "source": [
        "class CustomDataset(Dataset):\n",
        "\n",
        "  def __init__(self, features, labels):\n",
        "\n",
        "    self.features = features\n",
        "    self.labels = labels\n",
        "\n",
        "  def __len__(self):\n",
        "\n",
        "    return self.features.shape[0]\n",
        "\n",
        "  def __getitem__(self, index):\n",
        "\n",
        "    return self.features[index], self.labels[index]"
      ],
      "metadata": {
        "id": "5qVPL9VRVpBA"
      },
      "execution_count": 139,
      "outputs": []
    },
    {
      "cell_type": "markdown",
      "source": [
        "#**NN Module with DataLoader**"
      ],
      "metadata": {
        "id": "jOFreiAIRWgR"
      }
    },
    {
      "cell_type": "code",
      "source": [
        "X_train, X_test, y_train, y_test = train_test_split(X, y, test_size=0.2)"
      ],
      "metadata": {
        "id": "-Hrgr3-YRagX"
      },
      "execution_count": 140,
      "outputs": []
    },
    {
      "cell_type": "code",
      "source": [
        "scaler = StandardScaler()\n",
        "X_train = scaler.fit_transform(X_train)\n",
        "X_test = scaler.transform(X_test)"
      ],
      "metadata": {
        "id": "KZOZC8cNRf8Z"
      },
      "execution_count": 141,
      "outputs": []
    },
    {
      "cell_type": "code",
      "source": [
        "X_train_tensor = torch.from_numpy(X_train.astype(np.float32))\n",
        "X_test_tensor = torch.from_numpy(X_test.astype(np.float32))\n",
        "y_train_tensor = torch.from_numpy(y_train.astype(np.float32))\n",
        "y_test_tensor = torch.from_numpy(y_test.astype(np.float32))\n",
        "type(X_test_tensor)"
      ],
      "metadata": {
        "colab": {
          "base_uri": "https://localhost:8080/"
        },
        "id": "nrfi0LTiUOKJ",
        "outputId": "be795614-db6c-4622-9fc7-82981d639e74"
      },
      "execution_count": 142,
      "outputs": [
        {
          "output_type": "execute_result",
          "data": {
            "text/plain": [
              "torch.Tensor"
            ]
          },
          "metadata": {},
          "execution_count": 142
        }
      ]
    },
    {
      "cell_type": "code",
      "source": [
        "train_dataset = CustomDataset(X_train_tensor, y_train_tensor)\n",
        "test_dataset = CustomDataset(X_test_tensor, y_test_tensor)"
      ],
      "metadata": {
        "id": "rYIIVy6iQB8z"
      },
      "execution_count": 143,
      "outputs": []
    },
    {
      "cell_type": "code",
      "source": [
        "train_loader = DataLoader(train_dataset, batch_size=32, shuffle=True)\n",
        "test_loader = DataLoader(test_dataset, batch_size=32, shuffle=True)"
      ],
      "metadata": {
        "id": "BgQoQwodQIxy"
      },
      "execution_count": 144,
      "outputs": []
    },
    {
      "cell_type": "code",
      "source": [
        "# for batch_features, batch_labels in train_loader:\n",
        "\n",
        "#   print(batch_features)\n",
        "#   print(batch_labels)\n",
        "#   print(\"-\"*50)"
      ],
      "metadata": {
        "collapsed": true,
        "id": "ELCOxqp5QOWH"
      },
      "execution_count": 146,
      "outputs": []
    },
    {
      "cell_type": "code",
      "source": [
        "class MySimpleNN(nn.Module):\n",
        "    def __init__(self, input_size):\n",
        "        super().__init__()\n",
        "        self.model = nn.Sequential(\n",
        "            nn.Linear(input_size, 64),\n",
        "            nn.ReLU(),\n",
        "            nn.Linear(64, 32),\n",
        "            nn.ReLU(),\n",
        "            nn.Linear(32, 1),\n",
        "            nn.Sigmoid()   # sigmoid is here\n",
        "        )\n",
        "    def forward(self, x):\n",
        "        return self.model(x)"
      ],
      "metadata": {
        "id": "1Qipj1dnTPQY"
      },
      "execution_count": 147,
      "outputs": []
    },
    {
      "cell_type": "code",
      "source": [
        "learning_rate = 00.1\n",
        "epochs = 20"
      ],
      "metadata": {
        "id": "0eH34kvbTRUe"
      },
      "execution_count": 264,
      "outputs": []
    },
    {
      "cell_type": "code",
      "source": [
        "# create model\n",
        "model = MySimpleNN(X_train.shape[1])\n",
        "\n",
        "# define optimizer\n",
        "optimizer = torch.optim.SGD(model.parameters(), lr=learning_rate)\n",
        "\n",
        "# define loss function\n",
        "loss_function = nn.BCELoss()"
      ],
      "metadata": {
        "id": "UPMBq7B3TZH6"
      },
      "execution_count": 265,
      "outputs": []
    },
    {
      "cell_type": "code",
      "source": [
        "# define loop\n",
        "for epoch in range(epochs):\n",
        "\n",
        "  for batch_features, batch_labels in train_loader:\n",
        "\n",
        "    # forward pass\n",
        "    y_pred = model(batch_features)\n",
        "\n",
        "    # loss calculate\n",
        "    loss = loss_function(y_pred, batch_labels.view(-1, 1))\n",
        "\n",
        "    # clear gradients\n",
        "    optimizer.zero_grad()\n",
        "\n",
        "    # backward pass\n",
        "    loss.backward()\n",
        "\n",
        "    # parameters update\n",
        "    optimizer.step()\n",
        "\n",
        "  # print loss in each epoch\n",
        "  print(f'Epoch: {epoch + 1}, Loss: {loss.item()}')"
      ],
      "metadata": {
        "colab": {
          "base_uri": "https://localhost:8080/"
        },
        "id": "DZYZtgw_TeW-",
        "outputId": "29a9281b-d8fd-4104-df2f-11ac8b6221eb"
      },
      "execution_count": 266,
      "outputs": [
        {
          "output_type": "stream",
          "name": "stdout",
          "text": [
            "Epoch: 1, Loss: 0.3941633999347687\n",
            "Epoch: 2, Loss: 0.3343452513217926\n",
            "Epoch: 3, Loss: 0.15552031993865967\n",
            "Epoch: 4, Loss: 0.027479151263833046\n",
            "Epoch: 5, Loss: 0.1294943392276764\n",
            "Epoch: 6, Loss: 0.019718823954463005\n",
            "Epoch: 7, Loss: 0.027159005403518677\n",
            "Epoch: 8, Loss: 0.005329739768058062\n",
            "Epoch: 9, Loss: 0.005607367493212223\n",
            "Epoch: 10, Loss: 0.7068694829940796\n",
            "Epoch: 11, Loss: 0.00854849349707365\n",
            "Epoch: 12, Loss: 0.02888217195868492\n",
            "Epoch: 13, Loss: 0.007039327640086412\n",
            "Epoch: 14, Loss: 0.030208123847842216\n",
            "Epoch: 15, Loss: 0.0010586768621578813\n",
            "Epoch: 16, Loss: 0.06967346370220184\n",
            "Epoch: 17, Loss: 0.0025749888736754656\n",
            "Epoch: 18, Loss: 0.12373130768537521\n",
            "Epoch: 19, Loss: 0.030956828966736794\n",
            "Epoch: 20, Loss: 0.015688816085457802\n"
          ]
        }
      ]
    },
    {
      "cell_type": "code",
      "source": [
        "np.random.seed(42)\n",
        "torch.manual_seed(42)\n",
        "\n",
        "# Model evaluation using test_loader\n",
        "model.eval()  # Set the model to evaluation mode\n",
        "accuracy_list = []\n",
        "\n",
        "with torch.no_grad():\n",
        "    for batch_features, batch_labels in test_loader:\n",
        "        # Forward pass\n",
        "        y_pred = model(batch_features)\n",
        "        y_pred = (y_pred > 0.5).float()  # Convert probabilities to binary predictions\n",
        "\n",
        "        # Calculate accuracy for the current batch\n",
        "        batch_accuracy = (y_pred.view(-1) == batch_labels).float().mean().item()\n",
        "        accuracy_list.append(batch_accuracy)\n",
        "\n",
        "# Calculate overall accuracy\n",
        "overall_accuracy = sum(accuracy_list) / len(accuracy_list)\n",
        "print(f'Accuracy: {overall_accuracy:.4f}')\n",
        "print(model)"
      ],
      "metadata": {
        "colab": {
          "base_uri": "https://localhost:8080/"
        },
        "id": "pX8h3Lg6Tlqr",
        "outputId": "3b8d21ad-20fb-4127-a307-468d6af76d3b"
      },
      "execution_count": 267,
      "outputs": [
        {
          "output_type": "stream",
          "name": "stdout",
          "text": [
            "Accuracy: 0.9783\n",
            "MySimpleNN(\n",
            "  (model): Sequential(\n",
            "    (0): Linear(in_features=30, out_features=64, bias=True)\n",
            "    (1): ReLU()\n",
            "    (2): Linear(in_features=64, out_features=32, bias=True)\n",
            "    (3): ReLU()\n",
            "    (4): Linear(in_features=32, out_features=1, bias=True)\n",
            "    (5): Sigmoid()\n",
            "  )\n",
            ")\n"
          ]
        }
      ]
    },
    {
      "cell_type": "code",
      "source": [
        "new_data = X_test[0:1]\n",
        "\n",
        "new_tensor = torch.tensor(new_data, dtype=torch.float32).view(1, -1)\n",
        "\n",
        "model.eval()\n",
        "with torch.no_grad():\n",
        "    y_proba = model(new_tensor)\n",
        "    y_class = (y_proba > 0.5).float()\n",
        "    print(\"Predicted Probability:\", y_proba.item())\n",
        "    print(\"Predicted Class:\", int(y_class.item()))"
      ],
      "metadata": {
        "colab": {
          "base_uri": "https://localhost:8080/"
        },
        "id": "xrPQ8tMqXpyx",
        "outputId": "e7bd9fe3-8d11-443f-f6e6-c9dff4e7f9fc"
      },
      "execution_count": 268,
      "outputs": [
        {
          "output_type": "stream",
          "name": "stdout",
          "text": [
            "Predicted Probability: 0.059101320803165436\n",
            "Predicted Class: 0\n"
          ]
        }
      ]
    }
  ]
}